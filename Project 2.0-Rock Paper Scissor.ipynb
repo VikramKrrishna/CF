{
 "cells": [
  {
   "cell_type": "markdown",
   "id": "3b1fa7b8",
   "metadata": {},
   "source": [
    "# Project 2.0-Rock Paper Scissor"
   ]
  },
  {
   "cell_type": "markdown",
   "id": "96d69be2",
   "metadata": {},
   "source": [
    "Game Rule:\n",
    "    Rock smashes scissors.\n",
    "    Paper covers rock.\n",
    "    Scissors cut paper."
   ]
  },
  {
   "cell_type": "code",
   "execution_count": 10,
   "id": "9b1719c2",
   "metadata": {},
   "outputs": [
    {
     "name": "stdout",
     "output_type": "stream",
     "text": [
      "Enter your choise (Rock, Paper, Scissor): \n",
      "Paper\n"
     ]
    }
   ],
   "source": [
    "import random\n",
    "user_choice = input(\"Enter your choise (Rock, Paper, Scissor): \\n\")"
   ]
  },
  {
   "cell_type": "code",
   "execution_count": 11,
   "id": "335dd766",
   "metadata": {},
   "outputs": [
    {
     "name": "stdout",
     "output_type": "stream",
     "text": [
      " You chose Paper, computer chose Rock\n"
     ]
    }
   ],
   "source": [
    "options = [\"Rock\",\"Paper\",\"Scissor\"]\n",
    "computer_choice = random.choice(options) # select 3 out of 1 randomly\n",
    "print(\" You chose {user}, computer chose {computer}\".format(user=user_choice,computer=computer_choice))"
   ]
  },
  {
   "cell_type": "code",
   "execution_count": 12,
   "id": "32a0f96e",
   "metadata": {},
   "outputs": [
    {
     "name": "stdout",
     "output_type": "stream",
     "text": [
      "\n",
      " Paper covers Rock! ***** YOU WIN *****\n"
     ]
    }
   ],
   "source": [
    "# Game Rock Paper Scissor\n",
    "if user_choice == computer_choice:\n",
    "    print(\"Both have chose {user}, ***** IT IS TIE *****\".format(user=user_choice))\n",
    "elif user_choice == \"Rock\":\n",
    "    if computer_choice == \"Scissor\":\n",
    "        print(\"\\n Rock smashes Scissor! ***** YOU WIN *****\")      \n",
    "    else: \n",
    "        print(\"\\n Paper covers Rock! ***** YOU LOSS *****\")\n",
    "elif user_choice == \"Paper\":\n",
    "    if computer_choice == \"Rock\":\n",
    "        print(\"\\n Paper covers Rock! ***** YOU WIN *****\")\n",
    "    else: \n",
    "        print(\"\\n Scissor cut Paper! ***** YOU LOSS *****\")\n",
    "elif user_choice == \"Scissors\":\n",
    "    if computer_choice == \"Paper\":\n",
    "        print(\"\\n Scissor cut paper! ***** YOU WIN *****\")\n",
    "    else:\n",
    "        print(\"\\n Rock smashes Scissor! ***** YOU LOSS *****\")  "
   ]
  },
  {
   "cell_type": "code",
   "execution_count": null,
   "id": "11e07810",
   "metadata": {},
   "outputs": [],
   "source": []
  }
 ],
 "metadata": {
  "kernelspec": {
   "display_name": "Python 3",
   "language": "python",
   "name": "python3"
  },
  "language_info": {
   "codemirror_mode": {
    "name": "ipython",
    "version": 3
   },
   "file_extension": ".py",
   "mimetype": "text/x-python",
   "name": "python",
   "nbconvert_exporter": "python",
   "pygments_lexer": "ipython3",
   "version": "3.8.8"
  }
 },
 "nbformat": 4,
 "nbformat_minor": 5
}
