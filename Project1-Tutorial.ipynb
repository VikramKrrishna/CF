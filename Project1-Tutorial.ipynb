{
 "cells": [
  {
   "cell_type": "markdown",
   "id": "52934fa5",
   "metadata": {},
   "source": [
    "# Student Portfolio"
   ]
  },
  {
   "cell_type": "code",
   "execution_count": 18,
   "id": "f2eacf20",
   "metadata": {},
   "outputs": [
    {
     "name": "stdout",
     "output_type": "stream",
     "text": [
      "Enter Student First Name: \n",
      "Vikram\n",
      "Enter Student Last Name: \n",
      "M\n",
      "Enter yout class:\n",
      " 12\n",
      "Enter your division:\n",
      " A\n",
      "Enter your Roll Number:\n",
      " 1020\n",
      " Enter subject 1 \n",
      " English\n",
      " Enter subject 2 \n",
      " Maths\n",
      " Enter subject 3 \n",
      " Science\n",
      "Enter yout percentage:\n",
      " 74.63\n"
     ]
    }
   ],
   "source": [
    "First_Name = str(input(\"Enter Student First Name: \\n\"))\n",
    "Last_Name = str(input(\"Enter Student Last Name: \\n\"))\n",
    "Standard = int(input(\"Enter yout class:\\n \"))\n",
    "Division = str(input(\"Enter your division:\\n \"))\n",
    "Roll_Number = int(input(\"Enter your Roll Number:\\n \"))\n",
    "Sub1 = str(input(\" Enter subject 1 \\n \"))\n",
    "Sub2 = str(input(\" Enter subject 2 \\n \"))\n",
    "Sub3 = str(input(\" Enter subject 3 \\n \"))\n",
    "Student_percentage = float(input(\"Enter yout percentage:\\n \"))"
   ]
  },
  {
   "cell_type": "code",
   "execution_count": 19,
   "id": "267bcffb",
   "metadata": {},
   "outputs": [
    {
     "name": "stdout",
     "output_type": "stream",
     "text": [
      "Student Details \n",
      "\n",
      "***************\n",
      "\n",
      "First name of the student is Vikram\n",
      "Last name of the student is M\n",
      "Hello VIKRAM M\n",
      "\n",
      "***************\n",
      "\n",
      "VIKRAM is in 12 Class & ADivision.\n",
      "Roll No : 1020\n",
      "VIKRAM has chosen the velow subjects\n",
      "Subject 1: English\n",
      "Subject 2: Maths\n",
      "Subject 3: Science\n",
      "VIKRAM has scored 74.63% in the Final Exam\n",
      "\n",
      "***************\n",
      "\n",
      "Congratulations & Have a successful year ahead.\n",
      "\n",
      "***************\n"
     ]
    }
   ],
   "source": [
    "print(\"Student Details \\n\")\n",
    "print(\"*\"*15+\"\\n\")\n",
    "print(\"First name of the student is\",First_Name)\n",
    "print(\"Last name of the student is\",Last_Name)\n",
    "print(\"Hello\"+ \" \" + First_Name.upper() +\" \" + Last_Name.upper())\n",
    "\n",
    "print(\"\\n\"+\"*\"*15+\"\\n\")\n",
    "print(First_Name.upper()+\" is in \" +str(Standard), \"Class & \" +  Division.upper()+\"Division.\")\n",
    "print(\"Roll No : \"+str(Roll_Number))\n",
    "print(First_Name.upper()+\" has chosen the velow subjects\")\n",
    "\n",
    "print(\"Subject 1: \"+Sub1)\n",
    "print(\"Subject 2: \"+Sub2)\n",
    "print(\"Subject 3: \"+Sub3)\n",
    "print(First_Name.upper()+\" has scored \"+str(Student_percentage)+\"%\"+\" in the Final Exam\")\n",
    "\n",
    "print(\"\\n\"+\"*\"*15+\"\\n\")\n",
    "print(\"Congratulations & Have a successful year ahead.\")\n",
    "print(\"\\n\"+\"*\"*15)"
   ]
  },
  {
   "cell_type": "code",
   "execution_count": null,
   "id": "b65c2199",
   "metadata": {},
   "outputs": [],
   "source": []
  }
 ],
 "metadata": {
  "kernelspec": {
   "display_name": "Python 3",
   "language": "python",
   "name": "python3"
  },
  "language_info": {
   "codemirror_mode": {
    "name": "ipython",
    "version": 3
   },
   "file_extension": ".py",
   "mimetype": "text/x-python",
   "name": "python",
   "nbconvert_exporter": "python",
   "pygments_lexer": "ipython3",
   "version": "3.8.8"
  }
 },
 "nbformat": 4,
 "nbformat_minor": 5
}
