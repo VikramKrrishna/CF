{
 "cells": [
  {
   "cell_type": "markdown",
   "id": "52934fa5",
   "metadata": {},
   "source": [
    "# Project1_Student Portfolio"
   ]
  },
  {
   "cell_type": "code",
   "execution_count": 13,
   "id": "f2eacf20",
   "metadata": {},
   "outputs": [
    {
     "name": "stdout",
     "output_type": "stream",
     "text": [
      "\t Student Portfolio\n",
      "Enter Student Name: Vikram M\n",
      "Enter standard: 12\n",
      "Enter Division: A\n",
      "Enter Roll Number: 10A12B\n",
      "Marks secured in individual subjects\n",
      " English Marks out of 100: 95\n",
      " Maths Marks out of 100: 99\n",
      " Science Marks out of 100: 96\n",
      "Student Name:  Vikram M\n",
      "Std & Div:  12-A\n",
      "Roll Number:  10A12B\n",
      "Marks in English:  95.0\n",
      "Marks in Maths:  99.0\n",
      "Marks in Science:  96.0\n",
      "Total Marks of all subjects:  290.0\n",
      "Percentage of Marks:  96.67%\n"
     ]
    }
   ],
   "source": [
    "print(\"\\t Student Portfolio\")\n",
    "Student_Name = input(\"Enter Student Name: \" )\n",
    "Standard = str(input(\"Enter standard: \"))\n",
    "Division = str(input(\"Enter Division: \"))\n",
    "Roll_Number = str(input(\"Enter Roll Number: \")) # if the Roll Number is Alpha-Numeric\n",
    "\n",
    "# Marks secured in individual subjects\n",
    "print(\"Marks secured in individual subjects\")\n",
    "English = float(input(\" English Marks out of 100: \"))\n",
    "Maths = float(input(\" Maths Marks out of 100: \"))\n",
    "Science = float(input(\" Science Marks out of 100: \"))\n",
    "Total_Marks = English + Maths + Science\n",
    "print(\"Student Name: \",Student_Name )\n",
    "print(\"Std & Div: \",Standard + '-' + Division)\n",
    "print(\"Roll Number: \",Roll_Number)\n",
    "print(\"Marks in English: \",English)\n",
    "print(\"Marks in Maths: \",Maths)\n",
    "print(\"Marks in Science: \",Science)\n",
    "print(\"Total Marks of all subjects: \",Total_Marks)\n",
    "Percentage = Total_Marks/300\n",
    "print(\"Percentage of Marks: \",\"{:.2%}\".format(Percentage))"
   ]
  },
  {
   "cell_type": "code",
   "execution_count": null,
   "id": "267bcffb",
   "metadata": {},
   "outputs": [],
   "source": []
  }
 ],
 "metadata": {
  "kernelspec": {
   "display_name": "Python 3",
   "language": "python",
   "name": "python3"
  },
  "language_info": {
   "codemirror_mode": {
    "name": "ipython",
    "version": 3
   },
   "file_extension": ".py",
   "mimetype": "text/x-python",
   "name": "python",
   "nbconvert_exporter": "python",
   "pygments_lexer": "ipython3",
   "version": "3.8.8"
  }
 },
 "nbformat": 4,
 "nbformat_minor": 5
}
