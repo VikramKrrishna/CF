{
 "cells": [
  {
   "cell_type": "code",
   "execution_count": 6,
   "id": "605c2b79",
   "metadata": {},
   "outputs": [
    {
     "data": {
      "text/plain": [
       "['musicModel.joblib']"
      ]
     },
     "execution_count": 6,
     "metadata": {},
     "output_type": "execute_result"
    }
   ],
   "source": [
    "import pandas as pd\n",
    "from sklearn.tree import DecisionTreeClassifier\n",
    "#from sklearn.externals import joblib\n",
    "import joblib\n",
    "\n",
    "df = pd.read_csv('music.csv')\n",
    "input_data = df.drop(columns=['genre'])\n",
    "output_data = df['genre']\n",
    "\n",
    "model = DecisionTreeClassifier()\n",
    "model.fit(input_data,output_data)\n",
    "\n",
    "joblib.dump(model,'musicModel.joblib')\n"
   ]
  },
  {
   "cell_type": "code",
   "execution_count": 7,
   "id": "480a66c0",
   "metadata": {},
   "outputs": [
    {
     "data": {
      "text/plain": [
       "array(['Classical'], dtype=object)"
      ]
     },
     "execution_count": 7,
     "metadata": {},
     "output_type": "execute_result"
    }
   ],
   "source": [
    "joblib.load('musicModel.joblib')\n",
    "model.predict([[33,0]])"
   ]
  },
  {
   "cell_type": "code",
   "execution_count": 10,
   "id": "4eafcc72",
   "metadata": {},
   "outputs": [],
   "source": [
    "import pandas as pd\n",
    "from sklearn.tree import DecisionTreeClassifier\n",
    "from sklearn import tree\n",
    "\n",
    "df = pd.read_csv('music.csv')\n",
    "input_data = df.drop(columns=['genre'])\n",
    "output_data = df['genre']\n",
    "\n",
    "model = DecisionTreeClassifier()\n",
    "model.fit(input_data,output_data)\n",
    "\n",
    "tree.export_graphviz(model,\n",
    "                 feature_names=['age','gender'],\n",
    "                 class_names = sorted(output_data.unique()),\n",
    "                 label = 'all',\n",
    "                 rounded = True,\n",
    "                 filled = True,\n",
    "                 out_file = 'musicmodelDrawing.dot')"
   ]
  },
  {
   "cell_type": "code",
   "execution_count": null,
   "id": "48c3f7f3",
   "metadata": {},
   "outputs": [],
   "source": []
  }
 ],
 "metadata": {
  "kernelspec": {
   "display_name": "Python 3",
   "language": "python",
   "name": "python3"
  },
  "language_info": {
   "codemirror_mode": {
    "name": "ipython",
    "version": 3
   },
   "file_extension": ".py",
   "mimetype": "text/x-python",
   "name": "python",
   "nbconvert_exporter": "python",
   "pygments_lexer": "ipython3",
   "version": "3.8.8"
  }
 },
 "nbformat": 4,
 "nbformat_minor": 5
}
