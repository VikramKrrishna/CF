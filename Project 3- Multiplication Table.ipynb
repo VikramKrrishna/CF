{
 "cells": [
  {
   "cell_type": "markdown",
   "id": "ae211bd1",
   "metadata": {},
   "source": [
    "# Project 3- Multiplication Table"
   ]
  },
  {
   "cell_type": "code",
   "execution_count": 1,
   "id": "85ba6de0",
   "metadata": {},
   "outputs": [
    {
     "name": "stdout",
     "output_type": "stream",
     "text": [
      "Enter a Table number: \n",
      "500\n",
      "Multiplication Table of  500 is\n",
      "\n",
      "500 x 1 = 500\n",
      "500 x 2 = 1000\n",
      "500 x 3 = 1500\n",
      "500 x 4 = 2000\n",
      "500 x 5 = 2500\n",
      "500 x 6 = 3000\n",
      "500 x 7 = 3500\n",
      "500 x 8 = 4000\n",
      "500 x 9 = 4500\n",
      "500 x 10 = 5000\n",
      "500 x 11 = 5500\n",
      "500 x 12 = 6000\n"
     ]
    }
   ],
   "source": [
    "i=int(input(\"Enter a Table number: \\n\"))\n",
    "j=1\n",
    "print(\"Multiplication Table of \",i, \"is\\n\")\n",
    "while(j<=12):                                    #multiplication till 12\n",
    "    print(i,\"x\",j,\"=\",i*j)\n",
    "    j=j+1"
   ]
  },
  {
   "cell_type": "code",
   "execution_count": null,
   "id": "03bab2db",
   "metadata": {},
   "outputs": [],
   "source": []
  }
 ],
 "metadata": {
  "kernelspec": {
   "display_name": "Python 3",
   "language": "python",
   "name": "python3"
  },
  "language_info": {
   "codemirror_mode": {
    "name": "ipython",
    "version": 3
   },
   "file_extension": ".py",
   "mimetype": "text/x-python",
   "name": "python",
   "nbconvert_exporter": "python",
   "pygments_lexer": "ipython3",
   "version": "3.8.8"
  }
 },
 "nbformat": 4,
 "nbformat_minor": 5
}
